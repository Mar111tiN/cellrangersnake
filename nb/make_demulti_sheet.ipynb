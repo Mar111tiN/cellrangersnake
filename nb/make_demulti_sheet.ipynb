{
 "cells": [
  {
   "cell_type": "markdown",
   "id": "615d841d",
   "metadata": {},
   "source": [
    "## converter from the excel table to a valid sample sheet for 10x"
   ]
  },
  {
   "cell_type": "code",
   "execution_count": 1,
   "id": "4aae4de1",
   "metadata": {
    "ExecuteTime": {
     "end_time": "2023-03-07T11:01:46.498851Z",
     "start_time": "2023-03-07T11:01:46.455564Z"
    }
   },
   "outputs": [
    {
     "name": "stdout",
     "output_type": "stream",
     "text": [
      "\u001b[1;36;1mconfig file ../configs/test_config.yml successfully loaded\u001b[0m\n",
      "\u001b[1;30;1mAdded /Users/martinszyska/Sites/Bio/cellrangersnake/scripts/py to python path for imports\u001b[0m\n",
      "\u001b[1;30;1mLoading additional config CR_config from configs/cellranger_config.yml\u001b[0m\n"
     ]
    }
   ],
   "source": [
    "# main imports\n",
    "import os\n",
    "import pandas as pd\n",
    "\n",
    "# some sensible settings for better output\n",
    "from IPython.display import display\n",
    "pd.set_option('display.max_columns', None)\n",
    "pd.set_option('display.max_rows', 200)\n",
    "from IPython.core.interactiveshell import InteractiveShell\n",
    "InteractiveShell.ast_node_interactivity = \"all\"\n",
    "pd.set_option('max_colwidth', 200)\n",
    "pd.options.mode.chained_assignment = None\n",
    "\n",
    "# get the code\n",
    "import sys\n",
    "\n",
    "### set your PATH environments for more flexibility\n",
    "home = os.environ['HOME']\n",
    "work = os.environ['WORK']\n",
    "\n",
    "code_path = os.path.join(home, \"Sites/sceleton\")\n",
    "sys.path.append(os.path.join(code_path, \"code/py\"))\n",
    "from script_utils import load_config, show_output, get_path, full_path\n",
    "config_path = \"../configs\"\n",
    "config = load_config(os.path.join(config_path, \"test_config.yml\"))\n"
   ]
  },
  {
   "cell_type": "markdown",
   "id": "77f6d8af",
   "metadata": {},
   "source": [
    "### get the sample_df"
   ]
  },
  {
   "cell_type": "code",
   "execution_count": 10,
   "id": "0ee6b543",
   "metadata": {
    "ExecuteTime": {
     "end_time": "2023-03-07T11:11:50.116952Z",
     "start_time": "2023-03-07T11:11:50.096902Z"
    }
   },
   "outputs": [
    {
     "data": {
      "text/html": [
       "<div>\n",
       "<style scoped>\n",
       "    .dataframe tbody tr th:only-of-type {\n",
       "        vertical-align: middle;\n",
       "    }\n",
       "\n",
       "    .dataframe tbody tr th {\n",
       "        vertical-align: top;\n",
       "    }\n",
       "\n",
       "    .dataframe thead th {\n",
       "        text-align: right;\n",
       "    }\n",
       "</style>\n",
       "<table border=\"1\" class=\"dataframe\">\n",
       "  <thead>\n",
       "    <tr style=\"text-align: right;\">\n",
       "      <th></th>\n",
       "      <th>sample</th>\n",
       "      <th>fastqs</th>\n",
       "      <th>Run</th>\n",
       "      <th>library_type</th>\n",
       "    </tr>\n",
       "    <tr>\n",
       "      <th>Sample</th>\n",
       "      <th></th>\n",
       "      <th></th>\n",
       "      <th></th>\n",
       "      <th></th>\n",
       "    </tr>\n",
       "  </thead>\n",
       "  <tbody>\n",
       "    <tr>\n",
       "      <th>CAS9-Stim1</th>\n",
       "      <td>Cas9_Stim_1_GEX</td>\n",
       "      <td>/fast/groups/ag_schmueck/work/NGSData/Illumina/230114_LenaCas9/fastq</td>\n",
       "      <td>230114</td>\n",
       "      <td>Gene Expression</td>\n",
       "    </tr>\n",
       "    <tr>\n",
       "      <th>CAS9-Stim1</th>\n",
       "      <td>Cas9_Stim_1_hTCR</td>\n",
       "      <td>/fast/groups/ag_schmueck/work/NGSData/Illumina/230114_LenaCas9/fastq</td>\n",
       "      <td>230114</td>\n",
       "      <td>TCR</td>\n",
       "    </tr>\n",
       "    <tr>\n",
       "      <th>CAS9-Stim2</th>\n",
       "      <td>Cas9_Stim_2_GEX</td>\n",
       "      <td>/fast/groups/ag_schmueck/work/NGSData/Illumina/230114_LenaCas9/fastq</td>\n",
       "      <td>230114</td>\n",
       "      <td>Gene Expression</td>\n",
       "    </tr>\n",
       "    <tr>\n",
       "      <th>CAS9-Stim2</th>\n",
       "      <td>Cas9_Stim_2_hTCR</td>\n",
       "      <td>/fast/groups/ag_schmueck/work/NGSData/Illumina/230114_LenaCas9/fastq</td>\n",
       "      <td>230114</td>\n",
       "      <td>TCR</td>\n",
       "    </tr>\n",
       "    <tr>\n",
       "      <th>CAS9-Unstim</th>\n",
       "      <td>Cas9_Unstim_GEX</td>\n",
       "      <td>/fast/groups/ag_schmueck/work/NGSData/Illumina/230114_LenaCas9/fastq</td>\n",
       "      <td>230114</td>\n",
       "      <td>Gene Expression</td>\n",
       "    </tr>\n",
       "    <tr>\n",
       "      <th>CAS9-Unstim</th>\n",
       "      <td>Cas9_Unstim_hTCR</td>\n",
       "      <td>/fast/groups/ag_schmueck/work/NGSData/Illumina/230114_LenaCas9/fastq</td>\n",
       "      <td>230114</td>\n",
       "      <td>TCR</td>\n",
       "    </tr>\n",
       "  </tbody>\n",
       "</table>\n",
       "</div>"
      ],
      "text/plain": [
       "                       sample  \\\n",
       "Sample                          \n",
       "CAS9-Stim1    Cas9_Stim_1_GEX   \n",
       "CAS9-Stim1   Cas9_Stim_1_hTCR   \n",
       "CAS9-Stim2    Cas9_Stim_2_GEX   \n",
       "CAS9-Stim2   Cas9_Stim_2_hTCR   \n",
       "CAS9-Unstim   Cas9_Unstim_GEX   \n",
       "CAS9-Unstim  Cas9_Unstim_hTCR   \n",
       "\n",
       "                                                                           fastqs  \\\n",
       "Sample                                                                              \n",
       "CAS9-Stim1   /fast/groups/ag_schmueck/work/NGSData/Illumina/230114_LenaCas9/fastq   \n",
       "CAS9-Stim1   /fast/groups/ag_schmueck/work/NGSData/Illumina/230114_LenaCas9/fastq   \n",
       "CAS9-Stim2   /fast/groups/ag_schmueck/work/NGSData/Illumina/230114_LenaCas9/fastq   \n",
       "CAS9-Stim2   /fast/groups/ag_schmueck/work/NGSData/Illumina/230114_LenaCas9/fastq   \n",
       "CAS9-Unstim  /fast/groups/ag_schmueck/work/NGSData/Illumina/230114_LenaCas9/fastq   \n",
       "CAS9-Unstim  /fast/groups/ag_schmueck/work/NGSData/Illumina/230114_LenaCas9/fastq   \n",
       "\n",
       "                Run     library_type  \n",
       "Sample                                \n",
       "CAS9-Stim1   230114  Gene Expression  \n",
       "CAS9-Stim1   230114              TCR  \n",
       "CAS9-Stim2   230114  Gene Expression  \n",
       "CAS9-Stim2   230114              TCR  \n",
       "CAS9-Unstim  230114  Gene Expression  \n",
       "CAS9-Unstim  230114              TCR  "
      ]
     },
     "execution_count": 10,
     "metadata": {},
     "output_type": "execute_result"
    }
   ],
   "source": [
    "sample_sheet = os.path.join(home, \"Sites/Bio/cellrangersnake/sheets/lena_samples.csv\")\n",
    "sample_df = pd.read_csv(sample_sheet, sep=\"\\t\").set_index('Sample')\n",
    "sample_df"
   ]
  },
  {
   "cell_type": "code",
   "execution_count": 8,
   "id": "7b3917c5",
   "metadata": {
    "ExecuteTime": {
     "end_time": "2023-03-07T11:11:32.320639Z",
     "start_time": "2023-03-07T11:11:32.303068Z"
    }
   },
   "outputs": [],
   "source": [
    "r = config['cellranger']['Reads']['GEX']\n",
    "def get_ADT_path(run):\n",
    "    '''\n",
    "    path getter for the ADT file created by make_ADT_files\n",
    "    '''\n",
    "    return f\"ADT_files/ADT_{run}.csv\"\n",
    "\n",
    "\n",
    "def get_read(_type, config):\n",
    "    '''\n",
    "    returns the read-string for each library type\n",
    "    '''\n",
    "    return [f\"{read.lower()}-length,{length}\\n\" for read, length in config['cellranger']['Reads'][_type].items()]\n",
    "\n",
    "def get_CRargs(config):\n",
    "    CRargs = config['cellranger']['args']\n",
    "    return [arg.replace(\"--\", \"\").replace(\"=\", \",\").replace(\" \", \",\") + \"\\n\" for arg in CRargs]\n",
    "\n",
    "\n",
    "########### IS NOT NEEDED IN PIPELINE ############################\n",
    "def static_path(file, config):\n",
    "    '''\n",
    "    returns the absolute path when given relative to static folder\n",
    "    '''\n",
    "\n",
    "    return os.path.join(config['paths']['static'], file)\n",
    "\n",
    "\n",
    "def make_multi_lib_file(sc_df, sample=\"\", filepath=\"\", run_config={}):\n",
    "    '''\n",
    "    the sample sheet writer combining a library_df and info from config into a valid MiniSeq sample sheet\n",
    "    '''\n",
    "    \n",
    "    libs_df = sc_df.loc[sample]\n",
    "\n",
    "    c = run_config['cellranger']\n",
    "    # write to file\n",
    "    with open(filepath, 'w') as f:\n",
    "        if 'Gene Expression' in libs_df['library_type'].values:\n",
    "            #write the GEX config\n",
    "            f.write('[gene-expression]\\n')\n",
    "            f.write(f\"reference,{static_path(c['transcriptome_path'], config)}\\n\")\n",
    "            f.writelines(get_read('GEX', config))\n",
    "            f.writelines(get_CRargs(config))\n",
    "\n",
    "        if \"Antibody Capture\" in libs_df['library_type'].values:\n",
    "            # write the Feature config\n",
    "            f.write('\\n[feature]\\n')\n",
    "            # get the ADT run from libs_df\n",
    "            run = libs_df.loc[libs_df['library_type'] == \"Antibody Capture\", 'Run'][0]\n",
    "            f.write(f\"reference,{get_ADT_path(run)}\\n\")\n",
    "            f.writelines(get_read(\"FeatureBarcode\", config))\n",
    "            \n",
    "            \n",
    "        if 'TCR' in libs_df['library_type'].values:\n",
    "            # write the VDJ config\n",
    "            f.write('\\n[vdj]\\n')\n",
    "            f.write(f\"reference,{static_path(c['VDJ_ref'], config)}\\n\")\n",
    "            f.writelines(get_read(\"TCR\", config))\n",
    "        libs_df = libs_df.rename({\n",
    "            'sample':'fastq_id',\n",
    "            'library_type':'feature_types'\n",
    "        }, axis=1).loc[:, ['fastq_id', 'fastqs', 'feature_types']]\n",
    "        # write the libraries \n",
    "        f.write('\\n[libraries]\\n')        \n",
    "        libs_df.to_csv(f, index=False)\n",
    "    show_output(f\"Sample sheet written to {filepath}\", color=\"success\")\n",
    "    return libs_df"
   ]
  },
  {
   "cell_type": "markdown",
   "id": "e72d080e",
   "metadata": {},
   "source": [
    "### test  CRmulti-samplesheet writer"
   ]
  },
  {
   "cell_type": "code",
   "execution_count": 9,
   "id": "0bf6b168",
   "metadata": {
    "ExecuteTime": {
     "end_time": "2023-03-07T11:11:34.335267Z",
     "start_time": "2023-03-07T11:11:34.312709Z"
    }
   },
   "outputs": [
    {
     "name": "stdout",
     "output_type": "stream",
     "text": [
      "                          sample  \\\n",
      "Sample                             \n",
      "CAS9-Stim2       Cas9_Stim_2_GEX   \n",
      "CAS9-Stim2      Cas9_Stim_2_hTCR   \n",
      "CAS9-Stim2  Cas9_Stim_2_Antibody   \n",
      "\n",
      "                                                                          fastqs  \\\n",
      "Sample                                                                             \n",
      "CAS9-Stim2  /fast/groups/ag_schmueck/work/NGSData/Illumina/230114_LenaCas9/fastq   \n",
      "CAS9-Stim2  /fast/groups/ag_schmueck/work/NGSData/Illumina/230114_LenaCas9/fastq   \n",
      "CAS9-Stim2  /fast/groups/ag_schmueck/work/NGSData/Illumina/230114_LenaCas9/fastq   \n",
      "\n",
      "               Run      library_type  \n",
      "Sample                                \n",
      "CAS9-Stim2  230114   Gene Expression  \n",
      "CAS9-Stim2  230114               TCR  \n",
      "CAS9-Stim2  221018  Antibody Capture  \n",
      "\u001b[1;36;1mSample sheet written to /Users/martinszyska/Sites/Bio/cellrangersnake/test/multi_lena.csv\u001b[0m\n"
     ]
    },
    {
     "data": {
      "text/html": [
       "<div>\n",
       "<style scoped>\n",
       "    .dataframe tbody tr th:only-of-type {\n",
       "        vertical-align: middle;\n",
       "    }\n",
       "\n",
       "    .dataframe tbody tr th {\n",
       "        vertical-align: top;\n",
       "    }\n",
       "\n",
       "    .dataframe thead th {\n",
       "        text-align: right;\n",
       "    }\n",
       "</style>\n",
       "<table border=\"1\" class=\"dataframe\">\n",
       "  <thead>\n",
       "    <tr style=\"text-align: right;\">\n",
       "      <th></th>\n",
       "      <th>fastq_id</th>\n",
       "      <th>fastqs</th>\n",
       "      <th>feature_types</th>\n",
       "    </tr>\n",
       "    <tr>\n",
       "      <th>Sample</th>\n",
       "      <th></th>\n",
       "      <th></th>\n",
       "      <th></th>\n",
       "    </tr>\n",
       "  </thead>\n",
       "  <tbody>\n",
       "    <tr>\n",
       "      <th>CAS9-Stim2</th>\n",
       "      <td>Cas9_Stim_2_GEX</td>\n",
       "      <td>/fast/groups/ag_schmueck/work/NGSData/Illumina/230114_LenaCas9/fastq</td>\n",
       "      <td>Gene Expression</td>\n",
       "    </tr>\n",
       "    <tr>\n",
       "      <th>CAS9-Stim2</th>\n",
       "      <td>Cas9_Stim_2_hTCR</td>\n",
       "      <td>/fast/groups/ag_schmueck/work/NGSData/Illumina/230114_LenaCas9/fastq</td>\n",
       "      <td>TCR</td>\n",
       "    </tr>\n",
       "    <tr>\n",
       "      <th>CAS9-Stim2</th>\n",
       "      <td>Cas9_Stim_2_Antibody</td>\n",
       "      <td>/fast/groups/ag_schmueck/work/NGSData/Illumina/230114_LenaCas9/fastq</td>\n",
       "      <td>Antibody Capture</td>\n",
       "    </tr>\n",
       "  </tbody>\n",
       "</table>\n",
       "</div>"
      ],
      "text/plain": [
       "                        fastq_id  \\\n",
       "Sample                             \n",
       "CAS9-Stim2       Cas9_Stim_2_GEX   \n",
       "CAS9-Stim2      Cas9_Stim_2_hTCR   \n",
       "CAS9-Stim2  Cas9_Stim_2_Antibody   \n",
       "\n",
       "                                                                          fastqs  \\\n",
       "Sample                                                                             \n",
       "CAS9-Stim2  /fast/groups/ag_schmueck/work/NGSData/Illumina/230114_LenaCas9/fastq   \n",
       "CAS9-Stim2  /fast/groups/ag_schmueck/work/NGSData/Illumina/230114_LenaCas9/fastq   \n",
       "CAS9-Stim2  /fast/groups/ag_schmueck/work/NGSData/Illumina/230114_LenaCas9/fastq   \n",
       "\n",
       "               feature_types  \n",
       "Sample                        \n",
       "CAS9-Stim2   Gene Expression  \n",
       "CAS9-Stim2               TCR  \n",
       "CAS9-Stim2  Antibody Capture  "
      ]
     },
     "execution_count": 9,
     "metadata": {},
     "output_type": "execute_result"
    }
   ],
   "source": [
    "test_output = os.path.join(home, \"Sites/Bio/cellrangersnake/test/multi_lena.csv\")\n",
    "libs_df = make_multi_lib_file(sample_df, sample=\"CAS9-Stim2\", run_config=config, filepath=test_output)\n",
    "libs_df"
   ]
  },
  {
   "cell_type": "code",
   "execution_count": null,
   "id": "8dd968d8",
   "metadata": {},
   "outputs": [],
   "source": []
  }
 ],
 "metadata": {
  "kernelspec": {
   "display_name": "Python 3 (ipykernel)",
   "language": "python",
   "name": "python3"
  },
  "language_info": {
   "codemirror_mode": {
    "name": "ipython",
    "version": 3
   },
   "file_extension": ".py",
   "mimetype": "text/x-python",
   "name": "python",
   "nbconvert_exporter": "python",
   "pygments_lexer": "ipython3",
   "version": "3.10.8"
  }
 },
 "nbformat": 4,
 "nbformat_minor": 5
}
